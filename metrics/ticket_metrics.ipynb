{
 "cells": [
  {
   "cell_type": "code",
   "execution_count": null,
   "id": "2f0b3385-3d71-4ce8-aa97-631521ac1a19",
   "metadata": {},
   "outputs": [],
   "source": [
    "JIRA_DOMAIN = \"gremlininc.atlassian.net\""
   ]
  },
  {
   "cell_type": "code",
   "execution_count": 13,
   "id": "e7ef9943-2da7-49f6-9cb2-71d502447d45",
   "metadata": {},
   "outputs": [],
   "source": [
    "import netrc\n",
    "\n",
    "auth_file = netrc.netrc()\n",
    "authTokens = auth_file.authenticators(JIRA_DOMAIN)\n",
    "\n",
    "user_email = authTokens[0]\n",
    "api_token = authTokens[2]"
   ]
  },
  {
   "cell_type": "code",
   "execution_count": 15,
   "id": "6fd74117-d732-4156-9d67-d550e3e14ca3",
   "metadata": {},
   "outputs": [],
   "source": [
    "from jira import JIRA\n",
    "\n",
    "jira_url = f\"https://{JIRA_DOMAIN}/\"\n",
    "\n",
    "jira = JIRA(jira_url, basic_auth=(user_email, api_token))\n",
    "\n",
    "# projects = jira.projects()  # Test Authentication"
   ]
  },
  {
   "cell_type": "code",
   "execution_count": null,
   "id": "297fa197-140e-4f4f-81e2-d940df05d9ea",
   "metadata": {},
   "outputs": [],
   "source": []
  }
 ],
 "metadata": {
  "kernelspec": {
   "display_name": "Python 3 (ipykernel)",
   "language": "python",
   "name": "python3"
  },
  "language_info": {
   "codemirror_mode": {
    "name": "ipython",
    "version": 3
   },
   "file_extension": ".py",
   "mimetype": "text/x-python",
   "name": "python",
   "nbconvert_exporter": "python",
   "pygments_lexer": "ipython3",
   "version": "3.9.12"
  }
 },
 "nbformat": 4,
 "nbformat_minor": 5
}
